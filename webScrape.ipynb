{
 "cells": [
  {
   "cell_type": "markdown",
   "id": "cede6097-f420-4bce-9879-67fa046e7069",
   "metadata": {},
   "source": [
    "# Part 1: Generate filepaths to be scraped"
   ]
  },
  {
   "cell_type": "code",
   "execution_count": 4,
   "id": "5604a1e3-c5b3-427c-9f06-31b2ccc597a5",
   "metadata": {},
   "outputs": [],
   "source": [
    "from bs4 import BeautifulSoup\n",
    "import requests\n",
    "import json\n",
    "import datetime\n",
    "from datetime import datetime\n",
    "\n",
    "def getHTML(url):\n",
    "    response = requests.get(url)\n",
    "    return response.text\n",
    "    \n",
    "filepathList = []\n",
    "str1 = 'https://www.timeanddate.com/holidays/us/'\n",
    "\n",
    "for x in range(2021,2031):          \n",
    "    str2 = str(x)\n",
    "    filepath = str1+str2\n",
    "    filepathList.append(filepath)        #create list of urls to scrape (2021-2030 holidays)\n",
    "    "
   ]
  },
  {
   "cell_type": "markdown",
   "id": "c66406d0-a7d9-4afd-bb43-c43def5ee196",
   "metadata": {},
   "source": [
    "# Part 2: Scrape filepaths"
   ]
  },
  {
   "cell_type": "code",
   "execution_count": 5,
   "id": "8d9dc480-3b70-45e3-98a0-c5a200f88661",
   "metadata": {},
   "outputs": [],
   "source": [
    "holidayList = []\n",
    "for index, filepath in enumerate(filepathList):\n",
    "    year = 2021+index\n",
    "    \n",
    "    try:\n",
    "        html = getHTML(filepath)\n",
    "        soup = BeautifulSoup(html,'html.parser')\n",
    "        content = soup.find('tbody')\n",
    "\n",
    "        for row in content.find_all_next('tr'):                #loop through rows in the table\n",
    "            holiday = {}\n",
    "            try:\n",
    "                tempDate = str(year) + row.find('th').string        #Update holiday dictionary details. If no 'th', no holiday in row, error will throw    \n",
    "                newDate = datetime.strptime(tempDate, '%Y%b %d')    #Format date with appropriate year\n",
    "                holiday['date'] = newDate.strftime('%Y-%m-%d')\n",
    "\n",
    "                cells = row.find_all_next('td')\n",
    "                holiday['name'] = cells[1].string           \n",
    "                holiday['type'] = cells[2].string\n",
    "                try:\n",
    "                    holiday['details'] = row.find('span')['title']\n",
    "                except:\n",
    "                    holiday['details'] = None\n",
    "\n",
    "                holidayList.append(holiday)                #add holiday to holidayList\n",
    "            except:\n",
    "                pass\n",
    "     \n",
    "    except:\n",
    "        errorStr = 'Error: '+filepath           \n",
    "        yearList[index].append(errorStr)\n",
    "        \n",
    "\n",
    "\n"
   ]
  },
  {
   "cell_type": "markdown",
   "id": "72b5b782-76e8-474b-ba1c-7265fda28a23",
   "metadata": {},
   "source": [
    "# Part 3: Output JSON files"
   ]
  },
  {
   "cell_type": "code",
   "execution_count": 6,
   "id": "958f7411-bcca-4e5b-8449-4b11314960e9",
   "metadata": {},
   "outputs": [],
   "source": [
    "with open('holidays.json') as f:\n",
    "    data = json.load(f)\n",
    "    for item in data['holidays']:\n",
    "        holidayList.append(item)\n",
    "\n",
    "filepath = 'holidayList.json'                        #Stores JSON in appropriate files (holidays2020.json, holidays2021.json...)\n",
    "with open(filepath, 'w', encoding='utf-8') as outfile:  \n",
    "    json.dump(holidayList, outfile, indent=4)\n"
   ]
  },
  {
   "cell_type": "code",
   "execution_count": null,
   "id": "f45ada10-aa49-4e7d-a5c6-63dda158ed11",
   "metadata": {},
   "outputs": [],
   "source": []
  }
 ],
 "metadata": {
  "kernelspec": {
   "display_name": "Python 3",
   "language": "python",
   "name": "python3"
  },
  "language_info": {
   "codemirror_mode": {
    "name": "ipython",
    "version": 3
   },
   "file_extension": ".py",
   "mimetype": "text/x-python",
   "name": "python",
   "nbconvert_exporter": "python",
   "pygments_lexer": "ipython3",
   "version": "3.8.8"
  }
 },
 "nbformat": 4,
 "nbformat_minor": 5
}
