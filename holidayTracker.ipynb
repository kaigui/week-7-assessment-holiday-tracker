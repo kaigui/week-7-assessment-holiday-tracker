{
 "cells": [
  {
   "cell_type": "code",
   "execution_count": 1,
   "source": [
    "def startUp():\r\n",
    "    print('Holiday Management')\r\n",
    "    print('===================')\r\n",
    "    \r\n",
    "    \r\n",
    "    print(f'There are {holidayCount} holidays stored in the system.')"
   ],
   "outputs": [],
   "metadata": {}
  },
  {
   "cell_type": "code",
   "execution_count": 2,
   "source": [
    "def loadData():\r\n",
    "    global holidayCount\r\n",
    "    holidayCount = 0\r\n",
    "    \r\n",
    "    with open('holidayList.json') as f:                     #import holidays from consolidated JSON\r\n",
    "        data = json.load(f)\r\n",
    "        for item in data:\r\n",
    "            holidayList.append(item)                        #create list of holiday dictionaries\r\n",
    "            holidayCount+=1                                 \r\n",
    "            \r\n",
    "    yearDict = {}                            \r\n",
    "    for item in holidayList:              \r\n",
    "        year = item['date'][0:4]\r\n",
    "        yearDict[year] = []                                 #create dictionaries with year string as key, empty list as value\r\n",
    "                                                            #Format: yearList = {'2021': [list of holidays], '2022': ...}\r\n",
    "    for item in holidayList:  \r\n",
    "        holiday = Holiday(item['date'], item['name'])       #create holiday objects from dictionary list\r\n",
    "        year = item['date'][0:4]\r\n",
    "        try:\r\n",
    "            holiday.type = item['type']\r\n",
    "            holiday.details = item['details']      \r\n",
    "        except:\r\n",
    "            pass\r\n",
    "        yearDict[year].append(holiday)                      #add holiday object to list, contianed in appropriate dictionary year\r\n",
    "        \r\n",
    "    return yearDict\r\n",
    "\r\n",
    "\r\n",
    "\r\n",
    "\r\n",
    "    "
   ],
   "outputs": [],
   "metadata": {}
  },
  {
   "cell_type": "code",
   "execution_count": 3,
   "source": [
    "def addHoliday():\r\n",
    "    global yearDict\r\n",
    "    \r\n",
    "    print('Add a Holiday')\r\n",
    "    print('=============')\r\n",
    "    name = input('Holiday: ')\r\n",
    "    validDate = False\r\n",
    "    while validDate == False:\r\n",
    "        date = input('Date (YYYY-MM-DD):')                         #validate string is in correct date format\r\n",
    "        try:\r\n",
    "            dateObj = datetime.strptime(date, '%Y-%m-%d')\r\n",
    "            year = date[0:4]\r\n",
    "            validDate = True\r\n",
    "        except:\r\n",
    "            print('Invalid date. Please try again.')\r\n",
    "    tempDict={}\r\n",
    "    tempDict['date'] = date\r\n",
    "    tempDict['name'] = name\r\n",
    "    holidayList.append(tempDict)                                   #create new holiday dictionary (for updating JSON file)\r\n",
    "    \r\n",
    "    newHoliday = Holiday(date, name)                               #create new holiday object\r\n",
    "    \r\n",
    "    try:\r\n",
    "        yearDict[year].append(newHoliday)                          #if the new holiday has a previously unused year, \r\n",
    "    except:                                                        #creates an appropriate dictionary key, and adds holday to list\r\n",
    "        yearDict[year] = []                                        #Format: yearList = {'2021': [list of holidays], '2022': ...}\r\n",
    "        yearDict[year].append(newHoliday)\r\n",
    "    \r\n",
    "\r\n",
    "\r\n",
    "    \r\n",
    "    \r\n",
    "    "
   ],
   "outputs": [],
   "metadata": {}
  },
  {
   "cell_type": "code",
   "execution_count": 4,
   "source": [
    "def message(decorated_fn):\r\n",
    "    def inner_fn(*args, **kwargs):\r\n",
    "        global removeCount \r\n",
    "        \r\n",
    "        removeCount = 0            \r\n",
    "        fn_result = decorated_fn(*args, **kwargs)                       #inner function runs removeCount+=1 if successful\r\n",
    "        if removeCount > 0:                                             #if successful, print sucess\r\n",
    "            print('Success:')\r\n",
    "            print('Holiday has been removed from the holiday list')\r\n",
    "        else:                                                           #else print error message\r\n",
    "            print('Error:')\r\n",
    "            print('Holiday not found')\r\n",
    "    return inner_fn"
   ],
   "outputs": [],
   "metadata": {}
  },
  {
   "cell_type": "code",
   "execution_count": 5,
   "source": [
    "@message\r\n",
    "def removeHoliday():\r\n",
    "    global holidayList                     #modifies list of holiday dictionaries (for printing JSON)\r\n",
    "    global yearDict                        #modifies dictionary of holiday objects, by year\r\n",
    "    global removeCount                     #modifies count (for tracking function success)\r\n",
    "    \r\n",
    "    print('Remove a Holiday')\r\n",
    "    print('================')\r\n",
    "    name = input('Holiday Name: ')\r\n",
    "    \r\n",
    "    \r\n",
    "    newList = []\r\n",
    "    \r\n",
    "    for holidayDict in holidayList:\r\n",
    "        if name != holidayDict['name']:\r\n",
    "            newList.append(holidayDict)   #adds non-match holidays to temporary list. Match holidays not added.\r\n",
    "        else:\r\n",
    "            removeCount+=1\r\n",
    "    holidayList = newList                 #the list of dictionaries is updated to equal the temporary list. Matched holidays are removed\r\n",
    "    \r\n",
    "    for year in yearDict:                         #process repeats for the dictionary of holidays, by year\r\n",
    "        tempList = []\r\n",
    "        for holidayObj in yearDict[year]:\r\n",
    "            if name != holidayObj.name:\r\n",
    "                tempList.append(holidayObj)\r\n",
    "        yearDict[year] = tempList\r\n",
    "  \r\n",
    "\r\n",
    "            \r\n",
    "            \r\n",
    "    "
   ],
   "outputs": [],
   "metadata": {}
  },
  {
   "cell_type": "code",
   "execution_count": 6,
   "source": [
    "def saveList():\r\n",
    "    print('Saving Holiday List')\r\n",
    "    print('===================')\r\n",
    "    prompt = input('Are you sure you want to save your changes? [y/n]: ')\r\n",
    "    if prompt == 'y':\r\n",
    "        filepath = 'holidayList.json'                                           #saves current list of holiday dictionaries as JSON file\r\n",
    "        with open(filepath, 'w', encoding='utf-8') as outfile:  \r\n",
    "            json.dump(holidayList, outfile, indent=4)\r\n",
    "        print('Success: ')\r\n",
    "        print('Your changes have been saved')\r\n",
    "    else:\r\n",
    "        print('Canceled')\r\n",
    "        print('Holiday list file save canceled.')\r\n",
    "\r\n",
    "        "
   ],
   "outputs": [],
   "metadata": {}
  },
  {
   "cell_type": "code",
   "execution_count": 7,
   "source": [
    "def viewHoliday():         \r\n",
    "    print('View Holidays')\r\n",
    "    print('=================')\r\n",
    "    \r\n",
    "    validYear = False\r\n",
    "    while validYear == False:\r\n",
    "        try:\r\n",
    "            year = int(input('Which year?: '))            #validates valid year (for date object)\r\n",
    "            if year > 0 and year < 9999:\r\n",
    "                validYear = True\r\n",
    "            else:\r\n",
    "                print('Enter a year between 1-9999')      #if not valid year, reprompts user\r\n",
    "        except:\r\n",
    "            print('Enter an integer')\r\n",
    "            \r\n",
    "    validWeek = False\r\n",
    "    while validWeek == False:\r\n",
    "        week = input('Which week? #[1-53, Leave blank for the current week]: ')     #validates valid week\r\n",
    "        currentWeek = date.today().isocalendar()[1]\r\n",
    "        currentYear = date.today().isocalendar()[0]                                 #identifies current week and year\r\n",
    "        if week == '':\r\n",
    "            weekNum = currentWeek                                                   #'' returns current week\r\n",
    "            validWeek = True\r\n",
    "        else:\r\n",
    "            try:\r\n",
    "                weekNum = int(week)\r\n",
    "                if weekNum >= 1 and weekNum <= 53:                                 #if not valid week, reprompts user\r\n",
    "                    validWeek = True\r\n",
    "                else:\r\n",
    "                    print('Enter a week between 1-53')\r\n",
    "            except:\r\n",
    "                print('Enter an integer')\r\n",
    "                \r\n",
    "                \r\n",
    "    getWeatherDetails = False            \r\n",
    "    if weekNum == currentWeek or weekNum == currentWeek + 1:                      #if viewing current Week or next week of the current year, gives option to see weather forcast\r\n",
    "        if year == currentYear:\r\n",
    "            prompt = input(\"Would you like to see this week's weather? [y/n]\")\r\n",
    "            if prompt.lower() == 'y':\r\n",
    "                weatherDict = getWeather()                                        #runs function to get weather details from Open Weather API\r\n",
    "                getWeatherDetails = True\r\n",
    "               \r\n",
    "    print('')\r\n",
    "    print(f'These are the holidays for {year} week #{weekNum}:')                  \r\n",
    "    try:\r\n",
    "        count = 0\r\n",
    "        for holiday in yearDict[str(year)]:                                      #fetches a list of holiday dictionaries, of only the selected year\r\n",
    "            dateObj = datetime.strptime(str(holiday.date), '%Y-%m-%d')           \r\n",
    "            holidayWeek = dateObj.isocalendar()[1] \r\n",
    "            match = lambda str1, str2: str1 == str2                              #if the holiday week matches the search week, print results\r\n",
    "            if match(holidayWeek, weekNum):\r\n",
    "                if getWeatherDetails == True:\r\n",
    "                    try:\r\n",
    "                        print(f'{holiday}: {weatherDict[holiday.date]}')         #if weather is desired, also prints weather forecast if available\r\n",
    "                    except:\r\n",
    "                        print(holiday)\r\n",
    "                else:\r\n",
    "                    print(holiday)\r\n",
    "                count+=1       \r\n",
    "                     \r\n",
    "        if count == 0:                                                          #if no matches were found, let user know\r\n",
    "            print('No Holidays Found')\r\n",
    "    except:\r\n",
    "        print(f'No holidays in {year}')                                         #if search year is not found in dictionary of holidays, error occurs, let user know"
   ],
   "outputs": [],
   "metadata": {}
  },
  {
   "cell_type": "code",
   "execution_count": 8,
   "source": [
    "def printMenu():\r\n",
    "    print('''Holiday Menu\\n============\\n1. Add a Holiday\\n2. Remove a Holiday\\n3. Save Holiday List \\n4. View Holidays\\n5. Exit ''')"
   ],
   "outputs": [],
   "metadata": {}
  },
  {
   "cell_type": "code",
   "execution_count": 9,
   "source": [
    "def getWeather():\r\n",
    "    base_url = \"https://api.openweathermap.org/data/2.5/onecall?lat=\"\r\n",
    "    lat = str(44.98)                                                                 #Minneapolis coordinates\r\n",
    "    long = str(-93.27)\r\n",
    "    exclude = 'current,minutely,hourly,alerts'\r\n",
    "    api_key = config.key\r\n",
    "    city_name = 'minneapolis'\r\n",
    "    complete_url = base_url + lat + '&lon=' + long + \"&exclude=\" + exclude + '&appid=' + api_key\r\n",
    "    \r\n",
    "    response = requests.get(complete_url)\r\n",
    "    tempDict = json.loads(response.text)\r\n",
    "\r\n",
    "    weekWeatherDict = {}\r\n",
    "    for count, forecast in enumerate(tempDict['daily']):\r\n",
    "        dateWeather = {}\r\n",
    "        weather = forecast['weather'][0]['main']                         \r\n",
    "\r\n",
    "        startingDateObj = date.today()\r\n",
    "        targetDateObj = startingDateObj + timedelta(days=count)      #assigns appropriate date to each day's weather forcast\r\n",
    "        dateStr = targetDateObj.strftime('%Y-%m-%d')\r\n",
    "\r\n",
    "        weekWeatherDict[dateStr] = weather                           #makes a dictionary of dates as keys, and weather as values\r\n",
    "        \r\n",
    "    return weekWeatherDict"
   ],
   "outputs": [],
   "metadata": {}
  },
  {
   "cell_type": "code",
   "execution_count": 10,
   "source": [
    "from datetime import datetime, time, timedelta, date\r\n",
    "import json\r\n",
    "from dataclasses import dataclass, field\r\n",
    "import requests\r\n",
    "import config\r\n",
    "\r\n",
    "holidayList = []\r\n",
    "removeCount = 0\r\n",
    "\r\n",
    "@dataclass                          #establishes appropriate class for Holidays, with default values for type and details (present in scraped data, but not seed data)\r\n",
    "class Holiday:\r\n",
    "    date: str\r\n",
    "    name: str\r\n",
    "    type: str = ''\r\n",
    "    details: str = ''\r\n",
    "        \r\n",
    "    def __str__(self):\r\n",
    "        return '%s (%s) %s: ' % (self.name, self.date, self.type)      #updates print function, used in viewHoliday()\r\n",
    "    "
   ],
   "outputs": [],
   "metadata": {
    "tags": []
   }
  },
  {
   "cell_type": "code",
   "execution_count": 11,
   "source": [
    "yearDict = loadData()                                                         #Loads JSON file \r\n",
    "startUp()                                                                     #Displays startup message and Holiday count\r\n",
    "\r\n",
    "isExit = False\r\n",
    "\r\n",
    "printMenu()                                                             \r\n",
    "while isExit == False:                                                        #Validates user input to navigate menu\r\n",
    "    validNav = False\r\n",
    "    while validNav == False:\r\n",
    "        userChoice = input('Navigate menu by typing integer 1-5')\r\n",
    "        print('')\r\n",
    "        try:\r\n",
    "            intChoice = int(userChoice)\r\n",
    "            if intChoice >=1 and intChoice <= 5:\r\n",
    "                validNav = True\r\n",
    "            else:\r\n",
    "                print('Selected Menu out of bounds')\r\n",
    "        except:\r\n",
    "            print('Enter a valid integer')\r\n",
    "\r\n",
    "    if intChoice == 1:                                                 #Runs appropriate function depending on user input\r\n",
    "        addHoliday()\r\n",
    "    elif intChoice == 2:\r\n",
    "        removeHoliday()\r\n",
    "    elif intChoice == 3:\r\n",
    "        saveList()\r\n",
    "    elif intChoice == 4:\r\n",
    "        viewHoliday()\r\n",
    "    elif intChoice == 5:\r\n",
    "        isExit = True\r\n",
    "    if intChoice != 5:\r\n",
    "        print('')\r\n",
    "        printMenu()\r\n",
    "    else:\r\n",
    "        print('Thank you for using Holiday Manager')"
   ],
   "outputs": [
    {
     "output_type": "stream",
     "name": "stdout",
     "text": [
      "Holiday Management\n",
      "===================\n",
      "There are 4970 holidays stored in the system.\n",
      "Holiday Menu\n",
      "============\n",
      "1. Add a Holiday\n",
      "2. Remove a Holiday\n",
      "3. Save Holiday List \n",
      "4. View Holidays\n",
      "5. Exit \n"
     ]
    },
    {
     "output_type": "stream",
     "name": "stdout",
     "text": [
      "Navigate menu by typing integer 1-5 4\n"
     ]
    },
    {
     "output_type": "stream",
     "name": "stdout",
     "text": [
      "\n",
      "View Holidays\n",
      "=================\n"
     ]
    },
    {
     "output_type": "stream",
     "name": "stdout",
     "text": [
      "Which year?:  2021\n",
      "Which week? #[1-53, Leave blank for the current week]:  1\n"
     ]
    },
    {
     "output_type": "stream",
     "name": "stdout",
     "text": [
      "\n",
      "These are the holidays for 2021 week #1:\n",
      "World Braille Day (2021-01-04) United Nations observance: \n",
      "Epiphany (2021-01-06) Christian: \n",
      "Orthodox Christmas Day (2021-01-07) Orthodox: \n",
      "International Programmers' Day (2021-01-07) Worldwide observance: \n",
      "Margaret Thatcher Day (2021-01-10) : \n",
      "\n",
      "Holiday Menu\n",
      "============\n",
      "1. Add a Holiday\n",
      "2. Remove a Holiday\n",
      "3. Save Holiday List \n",
      "4. View Holidays\n",
      "5. Exit \n"
     ]
    },
    {
     "output_type": "stream",
     "name": "stdout",
     "text": [
      "Navigate menu by typing integer 1-5 1\n"
     ]
    },
    {
     "output_type": "stream",
     "name": "stdout",
     "text": [
      "\n",
      "Add a Holiday\n",
      "=============\n"
     ]
    },
    {
     "output_type": "stream",
     "name": "stdout",
     "text": [
      "Holiday:  kai day\n",
      "Date (YYYY-MM-DD): 1000-01-10\n"
     ]
    },
    {
     "output_type": "stream",
     "name": "stdout",
     "text": [
      "\n",
      "Holiday Menu\n",
      "============\n",
      "1. Add a Holiday\n",
      "2. Remove a Holiday\n",
      "3. Save Holiday List \n",
      "4. View Holidays\n",
      "5. Exit \n"
     ]
    },
    {
     "output_type": "stream",
     "name": "stdout",
     "text": [
      "Navigate menu by typing integer 1-5 4\n"
     ]
    },
    {
     "output_type": "stream",
     "name": "stdout",
     "text": [
      "\n",
      "View Holidays\n",
      "=================\n"
     ]
    },
    {
     "output_type": "stream",
     "name": "stdout",
     "text": [
      "Which year?:  1000\n",
      "Which week? #[1-53, Leave blank for the current week]:  2\n"
     ]
    },
    {
     "output_type": "stream",
     "name": "stdout",
     "text": [
      "\n",
      "These are the holidays for 1000 week #2:\n",
      "kai day (1000-01-10) : \n",
      "\n",
      "Holiday Menu\n",
      "============\n",
      "1. Add a Holiday\n",
      "2. Remove a Holiday\n",
      "3. Save Holiday List \n",
      "4. View Holidays\n",
      "5. Exit \n"
     ]
    },
    {
     "output_type": "stream",
     "name": "stdout",
     "text": [
      "Navigate menu by typing integer 1-5 2\n"
     ]
    },
    {
     "output_type": "stream",
     "name": "stdout",
     "text": [
      "\n",
      "Remove a Holiday\n",
      "================\n"
     ]
    },
    {
     "output_type": "stream",
     "name": "stdout",
     "text": [
      "Holiday Name:  kai day\n"
     ]
    },
    {
     "output_type": "stream",
     "name": "stdout",
     "text": [
      "Success:\n",
      "Holiday has been removed from the holiday list\n",
      "\n",
      "Holiday Menu\n",
      "============\n",
      "1. Add a Holiday\n",
      "2. Remove a Holiday\n",
      "3. Save Holiday List \n",
      "4. View Holidays\n",
      "5. Exit \n"
     ]
    },
    {
     "output_type": "stream",
     "name": "stdout",
     "text": [
      "Navigate menu by typing integer 1-5 4\n"
     ]
    },
    {
     "output_type": "stream",
     "name": "stdout",
     "text": [
      "\n",
      "View Holidays\n",
      "=================\n"
     ]
    },
    {
     "output_type": "stream",
     "name": "stdout",
     "text": [
      "Which year?:  1993\n",
      "Which week? #[1-53, Leave blank for the current week]:  2\n"
     ]
    },
    {
     "output_type": "stream",
     "name": "stdout",
     "text": [
      "\n",
      "These are the holidays for 1993 week #2:\n",
      "No holidays in 1993\n",
      "\n",
      "Holiday Menu\n",
      "============\n",
      "1. Add a Holiday\n",
      "2. Remove a Holiday\n",
      "3. Save Holiday List \n",
      "4. View Holidays\n",
      "5. Exit \n"
     ]
    },
    {
     "output_type": "stream",
     "name": "stdout",
     "text": [
      "Navigate menu by typing integer 1-5 3\n"
     ]
    },
    {
     "output_type": "stream",
     "name": "stdout",
     "text": [
      "\n",
      "Saving Holiday List\n",
      "===================\n"
     ]
    },
    {
     "output_type": "stream",
     "name": "stdout",
     "text": [
      "Are you sure you want to save your changes? [y/n]:  y\n"
     ]
    },
    {
     "output_type": "stream",
     "name": "stdout",
     "text": [
      "Success: \n",
      "Your changes have been saved\n",
      "\n",
      "Holiday Menu\n",
      "============\n",
      "1. Add a Holiday\n",
      "2. Remove a Holiday\n",
      "3. Save Holiday List \n",
      "4. View Holidays\n",
      "5. Exit \n"
     ]
    },
    {
     "output_type": "stream",
     "name": "stdout",
     "text": [
      "Navigate menu by typing integer 1-5 5\n"
     ]
    },
    {
     "output_type": "stream",
     "name": "stdout",
     "text": [
      "\n",
      "Thank you for using Holiday Manager\n"
     ]
    }
   ],
   "metadata": {}
  }
 ],
 "metadata": {
  "kernelspec": {
   "display_name": "Python 3",
   "language": "python",
   "name": "python3"
  },
  "language_info": {
   "codemirror_mode": {
    "name": "ipython",
    "version": 3
   },
   "file_extension": ".py",
   "mimetype": "text/x-python",
   "name": "python",
   "nbconvert_exporter": "python",
   "pygments_lexer": "ipython3",
   "version": "3.8.8"
  }
 },
 "nbformat": 4,
 "nbformat_minor": 5
}