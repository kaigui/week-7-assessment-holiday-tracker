{
 "cells": [
  {
   "cell_type": "code",
   "execution_count": 1,
   "id": "cada2bc7-4f44-4e11-8cb4-5126994a946a",
   "metadata": {},
   "outputs": [],
   "source": [
    "def startUp():\n",
    "    print('Holiday Management')\n",
    "    print('===================')\n",
    "    \n",
    "    \n",
    "    print(f'There are {holidayCount} holidays stored in the system.')"
   ]
  },
  {
   "cell_type": "code",
   "execution_count": 2,
   "id": "9ef228c9-f606-41e2-944d-ee0dd39e054d",
   "metadata": {},
   "outputs": [],
   "source": [
    "def loadData():\n",
    "    global holidayCount\n",
    "    holidayCount = 0\n",
    "    \n",
    "    with open('holidayList.json') as f:                     #import holidays from consolidated JSON\n",
    "        data = json.load(f)\n",
    "        for item in data:\n",
    "            holidayList.append(item)                        #create list of holiday dictionaries\n",
    "            holidayCount+=1                                 \n",
    "            \n",
    "    yearDict = {}                            \n",
    "    for item in holidayList:              \n",
    "        year = item['date'][0:4]\n",
    "        yearDict[year] = []                                 #create dictionaries with year string as key, empty list as value\n",
    "                                                            #Format: yearList = {'2021': [list of holidays], '2022': ...}\n",
    "    for item in holidayList:  \n",
    "        holiday = Holiday(item['date'], item['name'])       #create holiday objects from dictionary list\n",
    "        year = item['date'][0:4]\n",
    "        try:\n",
    "            holiday.type = item['type']\n",
    "            holiday.details = item['details']      \n",
    "        except:\n",
    "            pass\n",
    "        yearDict[year].append(holiday)                      #add holiday object to list, contianed in appropriate dictionary year\n",
    "        \n",
    "    return yearDict\n",
    "\n",
    "\n",
    "\n",
    "\n",
    "    "
   ]
  },
  {
   "cell_type": "code",
   "execution_count": 3,
   "id": "f94d7814-2544-4fc4-8578-f03bce6a437d",
   "metadata": {},
   "outputs": [],
   "source": [
    "def addHoliday():\n",
    "    global yearDict\n",
    "    \n",
    "    print('Add a Holiday')\n",
    "    print('=============')\n",
    "    name = input('Holiday: ')\n",
    "    validDate = False\n",
    "    while validDate == False:\n",
    "        date = input('Date (YYYY-MM-DD):')                         #validate string is in correct date format\n",
    "        try:\n",
    "            dateObj = datetime.strptime(date, '%Y-%m-%d')\n",
    "            year = date[0:4]\n",
    "            validDate = True\n",
    "        except:\n",
    "            print('Invalid date. Please try again.')\n",
    "    tempDict={}\n",
    "    tempDict['date'] = date\n",
    "    tempDict['name'] = name\n",
    "    holidayList.append(tempDict)                                   #create new holiday dictionary (for updating JSON file)\n",
    "    \n",
    "    newHoliday = Holiday(date, name)                               #create new holiday object\n",
    "    \n",
    "    try:\n",
    "        yearDict[year].append(newHoliday)                          #if the new holiday has a previously unused year, \n",
    "    except:                                                        #creates an appropriate dictionary key, and adds holday to list\n",
    "        yearDict[year] = []                                        #Format: yearList = {'2021': [list of holidays], '2022': ...}\n",
    "        yearDict[year].append(newHoliday)\n",
    "    \n",
    "\n",
    "\n",
    "    \n",
    "    \n",
    "    "
   ]
  },
  {
   "cell_type": "code",
   "execution_count": 4,
   "id": "cc56367c-e3d3-48d2-835b-fa9406383067",
   "metadata": {},
   "outputs": [],
   "source": [
    "def message(decorated_fn):\n",
    "    def inner_fn(*args, **kwargs):\n",
    "        global removeCount \n",
    "        \n",
    "        removeCount = 0            \n",
    "        fn_result = decorated_fn(*args, **kwargs)                       #inner function runs removeCount+=1 if successful\n",
    "        if removeCount > 0:                                             #if successful, print sucess\n",
    "            print('Success:')\n",
    "            print('Holiday has been removed from the holiday list')\n",
    "        else:                                                           #else print error message\n",
    "            print('Error:')\n",
    "            print('Holiday not found')\n",
    "    return inner_fn"
   ]
  },
  {
   "cell_type": "code",
   "execution_count": 5,
   "id": "8f3ab44a-a4f6-4548-8eb2-bcc6832426da",
   "metadata": {},
   "outputs": [],
   "source": [
    "@message\n",
    "def removeHoliday():\n",
    "    global holidayList                     #modifies list of holiday dictionaries (for printing JSON)\n",
    "    global yearDict                        #modifies dictionary of holiday objects, by year\n",
    "    global removeCount                     #modifies count (for tracking function success)\n",
    "    \n",
    "    print('Remove a Holiday')\n",
    "    print('================')\n",
    "    name = input('Holiday Name: ')\n",
    "    \n",
    "    \n",
    "    newList = []\n",
    "    \n",
    "    for holidayDict in holidayList:\n",
    "        if name != holidayDict['name']:\n",
    "            newList.append(holidayDict)   #adds non-match holidays to temporary list. Match holidays not added.\n",
    "        else:\n",
    "            removeCount+=1\n",
    "    holidayList = newList                 #the list of dictionaries is updated to equal the temporary list. Matched holidays are removed\n",
    "    \n",
    "    for year in yearDict:                         #process repeats for the dictionary of holidays, by year\n",
    "        tempList = []\n",
    "        for holidayObj in yearDict[year]:\n",
    "            if name != holidayObj.name:\n",
    "                tempList.append(holidayObj)\n",
    "        yearDict[year] = tempList\n",
    "  \n",
    "\n",
    "            \n",
    "            \n",
    "    "
   ]
  },
  {
   "cell_type": "code",
   "execution_count": 6,
   "id": "7c2b199a-3e27-4df7-9a26-c6244d55945d",
   "metadata": {},
   "outputs": [],
   "source": [
    "def saveList():\n",
    "    print('Saving Holiday List')\n",
    "    print('===================')\n",
    "    prompt = input('Are you sure you want to save your changes? [y/n]: ')\n",
    "    if prompt == 'y':\n",
    "        filepath = 'holidayList.json'                                           #saves current list of holiday dictionaries as JSON file\n",
    "        with open(filepath, 'w', encoding='utf-8') as outfile:  \n",
    "            json.dump(holidayList, outfile, indent=4)\n",
    "        print('Success: ')\n",
    "        print('Your changes have been saved')\n",
    "    else:\n",
    "        print('Canceled')\n",
    "        print('Holiday list file save canceled.')\n",
    "\n",
    "        "
   ]
  },
  {
   "cell_type": "code",
   "execution_count": 7,
   "id": "fe44e8f9-7a3e-410e-843a-e49af64e4052",
   "metadata": {},
   "outputs": [],
   "source": [
    "def viewHoliday():         \n",
    "    print('View Holidays')\n",
    "    print('=================')\n",
    "    \n",
    "    validYear = False\n",
    "    while validYear == False:\n",
    "        try:\n",
    "            year = int(input('Which year?: '))            #validates valid year (for date object)\n",
    "            if year > 0 and year < 9999:\n",
    "                validYear = True\n",
    "            else:\n",
    "                print('Enter a year between 1-9999')      #if not valid year, reprompts user\n",
    "        except:\n",
    "            print('Enter an integer')\n",
    "            \n",
    "    validWeek = False\n",
    "    while validWeek == False:\n",
    "        week = input('Which week? #[1-53, Leave blank for the current week]: ')     #validates valid week\n",
    "        currentWeek = date.today().isocalendar()[1]\n",
    "        currentYear = date.today().isocalendar()[0]                                 #identifies current week and year\n",
    "        if week == '':\n",
    "            weekNum = currentWeek                                                   #'' returns current week\n",
    "            validWeek = True\n",
    "        else:\n",
    "            try:\n",
    "                weekNum = int(week)\n",
    "                if weekNum >= 1 and weekNum <= 53:                                 #if not valid week, reprompts user\n",
    "                    validWeek = True\n",
    "                else:\n",
    "                    print('Enter a week between 1-53')\n",
    "            except:\n",
    "                print('Enter an integer')\n",
    "                \n",
    "                \n",
    "    getWeatherDetails = False            \n",
    "    if weekNum == currentWeek or weekNum == currentWeek + 1:                      #if viewing current Week or next week of the current year, gives option to see weather forcast\n",
    "        if year == currentYear:\n",
    "            prompt = input(\"Would you like to see this week's weather? [y/n]\")\n",
    "            if prompt.lower() == 'y':\n",
    "                weatherDict = getWeather()                                        #runs function to get weather details from Open Weather API\n",
    "                getWeatherDetails = True\n",
    "               \n",
    "    print('')\n",
    "    print(f'These are the holidays for {year} week #{weekNum}:')                  \n",
    "    try:\n",
    "        count = 0\n",
    "        for holiday in yearDict[str(year)]:                                      #fetches a list of holiday dictionaries, of only the selected year\n",
    "            dateObj = datetime.strptime(str(holiday.date), '%Y-%m-%d')           \n",
    "            holidayWeek = dateObj.isocalendar()[1] \n",
    "            match = lambda str1, str2: str1 == str2                              #if the holiday week matches the search week, print results\n",
    "            if match(holidayWeek, weekNum):\n",
    "                if getWeatherDetails == True:\n",
    "                    try:\n",
    "                        print(f'{holiday}: {weatherDict[holiday.date]}')         #if weather is desired, also prints weather forecast if available\n",
    "                    except:\n",
    "                        print(holiday)\n",
    "                else:\n",
    "                    print(holiday)\n",
    "                count+=1       \n",
    "                     \n",
    "        if count == 0:                                                          #if no matches were found, let user know\n",
    "            print('No Holidays Found')\n",
    "    except:\n",
    "        print(f'No holidays in {year}')                                         #if search year is not found in dictionary of holidays, error occurs, let user know"
   ]
  },
  {
   "cell_type": "code",
   "execution_count": 8,
   "id": "4f3d619a-ecd4-4741-8dac-abe82fe0b09d",
   "metadata": {},
   "outputs": [],
   "source": [
    "def printMenu():\n",
    "    print('''Holiday Menu\\n============\\n1. Add a Holiday\\n2. Remove a Holiday\\n3. Save Holiday List \\n4. View Holidays\\n5. Exit ''')"
   ]
  },
  {
   "cell_type": "code",
   "execution_count": 9,
   "id": "e01f33b2-c71f-4a7e-afeb-9e702833202c",
   "metadata": {},
   "outputs": [],
   "source": [
    "def getWeather():\n",
    "    base_url = \"https://api.openweathermap.org/data/2.5/onecall?lat=\"\n",
    "    lat = str(44.98)                                                                 #Minneapolis coordinates\n",
    "    long = str(-93.27)\n",
    "    exclude = 'current,minutely,hourly,alerts'\n",
    "    api_key = \"96a44cb0536e553204b76619fbb69576\"\n",
    "    city_name = 'minneapolis'\n",
    "    complete_url = base_url + lat + '&lon=' + long + \"&exclude=\" + exclude + '&appid=' + api_key\n",
    "    \n",
    "    response = requests.get(complete_url)\n",
    "    tempDict = json.loads(response.text)\n",
    "\n",
    "    weekWeatherDict = {}\n",
    "    for count, forecast in enumerate(tempDict['daily']):\n",
    "        dateWeather = {}\n",
    "        weather = forecast['weather'][0]['main']                         \n",
    "\n",
    "        startingDateObj = date.today()\n",
    "        targetDateObj = startingDateObj + timedelta(days=count)      #assigns appropriate date to each day's weather forcast\n",
    "        dateStr = targetDateObj.strftime('%Y-%m-%d')\n",
    "\n",
    "        weekWeatherDict[dateStr] = weather                           #makes a dictionary of dates as keys, and weather as values\n",
    "        \n",
    "    return weekWeatherDict"
   ]
  },
  {
   "cell_type": "code",
   "execution_count": 10,
   "id": "6ccbcf4f-c481-4fea-8c94-3ca5ece74505",
   "metadata": {
    "tags": []
   },
   "outputs": [],
   "source": [
    "from datetime import datetime, time, timedelta, date\n",
    "import json\n",
    "from dataclasses import dataclass, field\n",
    "import requests\n",
    "\n",
    "holidayList = []\n",
    "removeCount = 0\n",
    "\n",
    "@dataclass                          #establishes appropriate class for Holidays, with default values for type and details (present in scraped data, but not seed data)\n",
    "class Holiday:\n",
    "    date: str\n",
    "    name: str\n",
    "    type: str = ''\n",
    "    details: str = ''\n",
    "        \n",
    "    def __str__(self):\n",
    "        return '%s (%s) %s: ' % (self.name, self.date, self.type)      #updates print function, used in viewHoliday()\n",
    "    "
   ]
  },
  {
   "cell_type": "code",
   "execution_count": 11,
   "id": "adc31ca0-a9c6-4612-ba74-ff22fa09c9d1",
   "metadata": {},
   "outputs": [
    {
     "name": "stdout",
     "output_type": "stream",
     "text": [
      "Holiday Management\n",
      "===================\n",
      "There are 4970 holidays stored in the system.\n",
      "Holiday Menu\n",
      "============\n",
      "1. Add a Holiday\n",
      "2. Remove a Holiday\n",
      "3. Save Holiday List \n",
      "4. View Holidays\n",
      "5. Exit \n"
     ]
    },
    {
     "name": "stdin",
     "output_type": "stream",
     "text": [
      "Navigate menu by typing integer 1-5 4\n"
     ]
    },
    {
     "name": "stdout",
     "output_type": "stream",
     "text": [
      "\n",
      "View Holidays\n",
      "=================\n"
     ]
    },
    {
     "name": "stdin",
     "output_type": "stream",
     "text": [
      "Which year?:  2021\n",
      "Which week? #[1-53, Leave blank for the current week]:  1\n"
     ]
    },
    {
     "name": "stdout",
     "output_type": "stream",
     "text": [
      "\n",
      "These are the holidays for 2021 week #1:\n",
      "World Braille Day (2021-01-04) United Nations observance: \n",
      "Epiphany (2021-01-06) Christian: \n",
      "Orthodox Christmas Day (2021-01-07) Orthodox: \n",
      "International Programmers' Day (2021-01-07) Worldwide observance: \n",
      "Margaret Thatcher Day (2021-01-10) : \n",
      "\n",
      "Holiday Menu\n",
      "============\n",
      "1. Add a Holiday\n",
      "2. Remove a Holiday\n",
      "3. Save Holiday List \n",
      "4. View Holidays\n",
      "5. Exit \n"
     ]
    },
    {
     "name": "stdin",
     "output_type": "stream",
     "text": [
      "Navigate menu by typing integer 1-5 1\n"
     ]
    },
    {
     "name": "stdout",
     "output_type": "stream",
     "text": [
      "\n",
      "Add a Holiday\n",
      "=============\n"
     ]
    },
    {
     "name": "stdin",
     "output_type": "stream",
     "text": [
      "Holiday:  kai day\n",
      "Date (YYYY-MM-DD): 1000-01-10\n"
     ]
    },
    {
     "name": "stdout",
     "output_type": "stream",
     "text": [
      "\n",
      "Holiday Menu\n",
      "============\n",
      "1. Add a Holiday\n",
      "2. Remove a Holiday\n",
      "3. Save Holiday List \n",
      "4. View Holidays\n",
      "5. Exit \n"
     ]
    },
    {
     "name": "stdin",
     "output_type": "stream",
     "text": [
      "Navigate menu by typing integer 1-5 4\n"
     ]
    },
    {
     "name": "stdout",
     "output_type": "stream",
     "text": [
      "\n",
      "View Holidays\n",
      "=================\n"
     ]
    },
    {
     "name": "stdin",
     "output_type": "stream",
     "text": [
      "Which year?:  1000\n",
      "Which week? #[1-53, Leave blank for the current week]:  2\n"
     ]
    },
    {
     "name": "stdout",
     "output_type": "stream",
     "text": [
      "\n",
      "These are the holidays for 1000 week #2:\n",
      "kai day (1000-01-10) : \n",
      "\n",
      "Holiday Menu\n",
      "============\n",
      "1. Add a Holiday\n",
      "2. Remove a Holiday\n",
      "3. Save Holiday List \n",
      "4. View Holidays\n",
      "5. Exit \n"
     ]
    },
    {
     "name": "stdin",
     "output_type": "stream",
     "text": [
      "Navigate menu by typing integer 1-5 2\n"
     ]
    },
    {
     "name": "stdout",
     "output_type": "stream",
     "text": [
      "\n",
      "Remove a Holiday\n",
      "================\n"
     ]
    },
    {
     "name": "stdin",
     "output_type": "stream",
     "text": [
      "Holiday Name:  kai day\n"
     ]
    },
    {
     "name": "stdout",
     "output_type": "stream",
     "text": [
      "Success:\n",
      "Holiday has been removed from the holiday list\n",
      "\n",
      "Holiday Menu\n",
      "============\n",
      "1. Add a Holiday\n",
      "2. Remove a Holiday\n",
      "3. Save Holiday List \n",
      "4. View Holidays\n",
      "5. Exit \n"
     ]
    },
    {
     "name": "stdin",
     "output_type": "stream",
     "text": [
      "Navigate menu by typing integer 1-5 4\n"
     ]
    },
    {
     "name": "stdout",
     "output_type": "stream",
     "text": [
      "\n",
      "View Holidays\n",
      "=================\n"
     ]
    },
    {
     "name": "stdin",
     "output_type": "stream",
     "text": [
      "Which year?:  1993\n",
      "Which week? #[1-53, Leave blank for the current week]:  2\n"
     ]
    },
    {
     "name": "stdout",
     "output_type": "stream",
     "text": [
      "\n",
      "These are the holidays for 1993 week #2:\n",
      "No holidays in 1993\n",
      "\n",
      "Holiday Menu\n",
      "============\n",
      "1. Add a Holiday\n",
      "2. Remove a Holiday\n",
      "3. Save Holiday List \n",
      "4. View Holidays\n",
      "5. Exit \n"
     ]
    },
    {
     "name": "stdin",
     "output_type": "stream",
     "text": [
      "Navigate menu by typing integer 1-5 3\n"
     ]
    },
    {
     "name": "stdout",
     "output_type": "stream",
     "text": [
      "\n",
      "Saving Holiday List\n",
      "===================\n"
     ]
    },
    {
     "name": "stdin",
     "output_type": "stream",
     "text": [
      "Are you sure you want to save your changes? [y/n]:  y\n"
     ]
    },
    {
     "name": "stdout",
     "output_type": "stream",
     "text": [
      "Success: \n",
      "Your changes have been saved\n",
      "\n",
      "Holiday Menu\n",
      "============\n",
      "1. Add a Holiday\n",
      "2. Remove a Holiday\n",
      "3. Save Holiday List \n",
      "4. View Holidays\n",
      "5. Exit \n"
     ]
    },
    {
     "name": "stdin",
     "output_type": "stream",
     "text": [
      "Navigate menu by typing integer 1-5 5\n"
     ]
    },
    {
     "name": "stdout",
     "output_type": "stream",
     "text": [
      "\n",
      "Thank you for using Holiday Manager\n"
     ]
    }
   ],
   "source": [
    "yearDict = loadData()                                                         #Loads JSON file \n",
    "startUp()                                                                     #Displays startup message and Holiday count\n",
    "\n",
    "isExit = False\n",
    "\n",
    "printMenu()                                                             \n",
    "while isExit == False:                                                        #Validates user input to navigate menu\n",
    "    validNav = False\n",
    "    while validNav == False:\n",
    "        userChoice = input('Navigate menu by typing integer 1-5')\n",
    "        print('')\n",
    "        try:\n",
    "            intChoice = int(userChoice)\n",
    "            if intChoice >=1 and intChoice <= 5:\n",
    "                validNav = True\n",
    "            else:\n",
    "                print('Selected Menu out of bounds')\n",
    "        except:\n",
    "            print('Enter a valid integer')\n",
    "\n",
    "    if intChoice == 1:                                                 #Runs appropriate function depending on user input\n",
    "        addHoliday()\n",
    "    elif intChoice == 2:\n",
    "        removeHoliday()\n",
    "    elif intChoice == 3:\n",
    "        saveList()\n",
    "    elif intChoice == 4:\n",
    "        viewHoliday()\n",
    "    elif intChoice == 5:\n",
    "        isExit = True\n",
    "    if intChoice != 5:\n",
    "        print('')\n",
    "        printMenu()\n",
    "    else:\n",
    "        print('Thank you for using Holiday Manager')"
   ]
  }
 ],
 "metadata": {
  "kernelspec": {
   "display_name": "Python 3",
   "language": "python",
   "name": "python3"
  },
  "language_info": {
   "codemirror_mode": {
    "name": "ipython",
    "version": 3
   },
   "file_extension": ".py",
   "mimetype": "text/x-python",
   "name": "python",
   "nbconvert_exporter": "python",
   "pygments_lexer": "ipython3",
   "version": "3.8.8"
  }
 },
 "nbformat": 4,
 "nbformat_minor": 5
}
