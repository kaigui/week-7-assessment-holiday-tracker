{
 "cells": [
  {
   "cell_type": "code",
   "execution_count": 25,
   "id": "b4899f0e-a3be-4d49-953d-5a1409bb273a",
   "metadata": {},
   "outputs": [
    {
     "name": "stdout",
     "output_type": "stream",
     "text": [
      "https://api.openweathermap.org/data/2.5/onecall?lat=44.98&lon=-93.27&exclude=current,minutely,hourly,alerts&appid=96a44cb0536e553204b76619fbb69576\n"
     ]
    }
   ],
   "source": [
    "    import json\n",
    "    import requests\n",
    "    from datetime import timedelta, date, datetime\n",
    "\n",
    "    \n",
    "    base_url = \"https://api.openweathermap.org/data/2.5/onecall?lat=\"\n",
    "    lat = str(44.98)\n",
    "    long = str(-93.27)\n",
    "    exclude = 'current,minutely,hourly,alerts'\n",
    "    api_key = \"96a44cb0536e553204b76619fbb69576\"\n",
    "    city_name = 'minneapolis'\n",
    "\n",
    "    complete_url = base_url + lat + '&lon=' + long + \"&exclude=\" + exclude + '&appid=' + api_key\n",
    "    \n",
    "    print(complete_url)\n",
    "    "
   ]
  },
  {
   "cell_type": "code",
   "execution_count": 26,
   "id": "c268d39a-6436-472f-82fa-2dfced9f6b8d",
   "metadata": {},
   "outputs": [],
   "source": [
    "    response = requests.get(complete_url)\n",
    "    tempDict = json.loads(response.text)\n",
    "    \n",
    "\n",
    "    "
   ]
  },
  {
   "cell_type": "code",
   "execution_count": 27,
   "id": "391cc574-df79-433c-8a99-b46336f01e06",
   "metadata": {},
   "outputs": [
    {
     "ename": "NameError",
     "evalue": "name 'Begindate' is not defined",
     "output_type": "error",
     "traceback": [
      "\u001b[1;31m---------------------------------------------------------------------------\u001b[0m",
      "\u001b[1;31mNameError\u001b[0m                                 Traceback (most recent call last)",
      "\u001b[1;32m<ipython-input-27-0edf92d08c90>\u001b[0m in \u001b[0;36m<module>\u001b[1;34m\u001b[0m\n\u001b[0;32m      6\u001b[0m \u001b[1;33m\u001b[0m\u001b[0m\n\u001b[0;32m      7\u001b[0m     \u001b[0mstartingDateObj\u001b[0m \u001b[1;33m=\u001b[0m \u001b[0mdate\u001b[0m\u001b[1;33m.\u001b[0m\u001b[0mtoday\u001b[0m\u001b[1;33m(\u001b[0m\u001b[1;33m)\u001b[0m\u001b[1;33m\u001b[0m\u001b[1;33m\u001b[0m\u001b[0m\n\u001b[1;32m----> 8\u001b[1;33m     \u001b[0mtargetDateObj\u001b[0m \u001b[1;33m=\u001b[0m \u001b[0mBegindate\u001b[0m \u001b[1;33m+\u001b[0m \u001b[0mtimedelta\u001b[0m\u001b[1;33m(\u001b[0m\u001b[0mdays\u001b[0m\u001b[1;33m=\u001b[0m\u001b[0mcount\u001b[0m\u001b[1;33m)\u001b[0m\u001b[1;33m\u001b[0m\u001b[1;33m\u001b[0m\u001b[0m\n\u001b[0m\u001b[0;32m      9\u001b[0m     \u001b[0mdateStr\u001b[0m \u001b[1;33m=\u001b[0m \u001b[0mtargetDateObj\u001b[0m\u001b[1;33m.\u001b[0m\u001b[0mstrftime\u001b[0m\u001b[1;33m(\u001b[0m\u001b[1;34m'%Y-%m-%d'\u001b[0m\u001b[1;33m)\u001b[0m\u001b[1;33m\u001b[0m\u001b[1;33m\u001b[0m\u001b[0m\n\u001b[0;32m     10\u001b[0m \u001b[1;33m\u001b[0m\u001b[0m\n",
      "\u001b[1;31mNameError\u001b[0m: name 'Begindate' is not defined"
     ]
    }
   ],
   "source": [
    "    weekWeatherDict = {}\n",
    "    for count, forecast in enumerate(tempDict['daily']):\n",
    "        dateWeather = {}\n",
    "        weather = forecast['weather'][0]['main']\n",
    "\n",
    "        \n",
    "        startingDateObj = date.today()\n",
    "        targetDateObj = startingDateObj + timedelta(days=count)\n",
    "        dateStr = targetDateObj.strftime('%Y-%m-%d')\n",
    "\n",
    "        \n",
    "        weekWeatherDict[dateStr] = weather\n",
    "        \n",
    "    print(weekWeatherDict)\n",
    "    "
   ]
  },
  {
   "cell_type": "code",
   "execution_count": null,
   "id": "02713a7a-41c3-4853-ba2b-1fafeb1a3fa6",
   "metadata": {},
   "outputs": [],
   "source": []
  }
 ],
 "metadata": {
  "kernelspec": {
   "display_name": "Python 3",
   "language": "python",
   "name": "python3"
  },
  "language_info": {
   "codemirror_mode": {
    "name": "ipython",
    "version": 3
   },
   "file_extension": ".py",
   "mimetype": "text/x-python",
   "name": "python",
   "nbconvert_exporter": "python",
   "pygments_lexer": "ipython3",
   "version": "3.8.8"
  }
 },
 "nbformat": 4,
 "nbformat_minor": 5
}
